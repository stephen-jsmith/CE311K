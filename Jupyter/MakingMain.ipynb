{
 "cells": [
  {
   "cell_type": "markdown",
   "metadata": {},
   "source": [
    "### Making Main: How to ping an API, make a Distance Matrix, and call both at once\n",
    "Today, we are going to work through the data collection method for this project, step by step. In order, here are the steps we are looking to accomplish:\n",
    "-  Find the distance between two locations\n",
    "-  Repeat for every possible route in our list\n",
    "-  Save the collected data in matrix format\n",
    "-  Cache the data for later\n",
    "-  Make sure that we can load the cache\n",
    "\n",
    "Let's start with the import statements:"
   ]
  },
  {
   "cell_type": "code",
   "execution_count": 2,
   "metadata": {},
   "outputs": [],
   "source": [
    "# Import statements\n",
    "import json # Used to grab certain parts of the collected data, load key\n",
    "import requests # How we actually contact the API\n",
    "import pandas as pd # Excel but for python\n",
    "import numpy as np # Set up for later math\n",
    "import os # Navigating the file system\n",
    "\n",
    "# Open API Key - For telling Google we are indeed allowed to do this stuff\n",
    "with open(\"Keys.json\", \"r\") as data:\n",
    "    Keys = json.load(data)\n",
    "key = Keys['googleMaps']"
   ]
  },
  {
   "cell_type": "markdown",
   "metadata": {},
   "source": [
    "Now that we have all the required packages, we can start to do the actual programming. First step, define a function that goes and gets the data from Google Maps' directions API. An API is sort of like a library. If you go and ask the librarian for a specific book, they'll give it to you. With an API, the librarian is our ```requests``` module. The librarian in a real library can help you best if you give it the dewey decimal associated with the book. The dewey decimal for us is a url, which we change based on what information we want. Let's define a function that will get the data for us:"
   ]
  },
  {
   "cell_type": "code",
   "execution_count": null,
   "metadata": {},
   "outputs": [],
   "source": [
    "# Comments within the function represent what steps need to be taken for this function\n",
    "def RouteCaller():\n",
    "    # Verify Key exists\n",
    "    # Ping the API\n",
    "    # Return only the distance of the route\n",
    "    return ..."
   ]
  },
  {
   "cell_type": "markdown",
   "metadata": {},
   "source": [
    "Now that we have a function that calls the API, let's test it and see what we get! The results for these should be 1.2 and 0. respectively"
   ]
  },
  {
   "cell_type": "code",
   "execution_count": null,
   "metadata": {},
   "outputs": [],
   "source": [
    "# Result in 1.2\n",
    "test1 = RouteCaller('305+E+23rd+St+Austin+TX+78712', '300+W+21st+St+Austin+TX+78712', key)\n",
    "print(test1)\n",
    "# Result in 0.\n",
    "test2 = RouteCaller('305+E+23rd+St+Austin+TX+78712', '305+E+23rd+St+Austin+TX+78712', key)\n",
    "print(test2)"
   ]
  },
  {
   "cell_type": "markdown",
   "metadata": {},
   "source": [
    "### This function is great, but what if I have a bunch of places to go to?\n",
    "Great question Stephen! The first part of answering this question is to ask another question- **How do we store where we want to go?** This is where we begin to use Pandas. Pandas is pretty much just google sheets, but in Python. Instead of a spreadsheet, we use this fancy thing called a ```DataFrame```.  ```DataFrames``` are pretty cool, and can read data from .csv files super easy. We can start by importing our data.\n",
    "\n",
    "To access data, we use a ```with open('name of file', 'mode') as ____:``` statement. What this does is only keep the file open as long as we need to. If we keep it open, then it can start to mess with the memory of our computer until killed. The ```'name of file'``` argument is just giving python directions on where to find the info. Next, we have ```mode```, which tells python what we are going to be doing to this file. The two main ```modes``` we can use are ```\"r\"```, read mode, or ```\"w\"```, write mode. Finally, we need to give the file a temporary name, which goes in the blank spot. This is just how we will refer to it when grabbing information. A common name to give it in this application is ```data```. Let's try this out: "
   ]
  },
  {
   "cell_type": "code",
   "execution_count": 4,
   "metadata": {},
   "outputs": [
    {
     "name": "stdout",
     "output_type": "stream",
     "text": [
      "  Name                                            Address\n",
      "0  RLP                      305+E+23rd+St+Austin+TX+78712\n",
      "1  HRC                      300+W+21st+St+Austin+TX+78712\n",
      "2  CNS  Will+C.Hogg+Bldg,+120+Inner+Campus+Drive,+Aust...\n",
      "3  BUR              2505+University+Ave,+Austin,+TX+78712\n",
      "4  CPE             200+E+Dean+Keeton+St,+Austin,+TX+78712\n"
     ]
    }
   ],
   "source": [
    "# For ease of use, lets give our file a generic name so we can access it later\n",
    "FILENAME = 'AddressesTest'\n",
    "\n",
    "with open(f\"Data/{FILENAME}.csv\", \"r\") as data: # f\"\" is the same as \"\".format(), but cleaner\n",
    "    df = pd.read_csv(data)\n",
    "    # Make the addresses API friendly \n",
    "    # (API does not like the spaces or commas. I have already removed the commas but not the spaces from our test)\n",
    "    df = df.replace(' ', '+', regex=True)\n",
    "print(df)"
   ]
  },
  {
   "cell_type": "markdown",
   "metadata": {},
   "source": [
    "Now we have the data in an easy location to manipulate. We can begin writing a function that iterates over the data and spits out the distances we are looking for, since we know what format the data is in now."
   ]
  },
  {
   "cell_type": "code",
   "execution_count": null,
   "metadata": {},
   "outputs": [],
   "source": [
    "def generateDistanceMatrix():\n",
    "    # Set up local storage\n",
    "    # Iterate through the DataFrame\n",
    "        # Ping the API using the function we just made\n",
    "    # Process the data into a form we want\n",
    "    # Return\n",
    "    return ..."
   ]
  },
  {
   "cell_type": "markdown",
   "metadata": {},
   "source": [
    "Again, let's test our function to make sure that we are getting what we want:"
   ]
  },
  {
   "cell_type": "code",
   "execution_count": null,
   "metadata": {},
   "outputs": [],
   "source": [
    "test3 = generateDistanceMatrix(df, key)\n",
    "print(test3)"
   ]
  },
  {
   "cell_type": "markdown",
   "metadata": {},
   "source": [
    "### Awesome! We have a distance matrix all set up, so we're done right?\n",
    "\n",
    "Not quite! But we're really close. If we were to have a stupid big list of addresses, which we might, this API call stuff will just eat time every time we want to run the problem. So now, we need to do this thing called ```caching```. ```Caching``` is just the term for saving data. We're going to put all of our saved data into a ```.npy``` file, so that we can quickly pull it up later when we want to. The way you save to a ```.npy``` file is pretty simple:"
   ]
  },
  {
   "cell_type": "code",
   "execution_count": null,
   "metadata": {},
   "outputs": [],
   "source": [
    "# Since we already have test3 setup as a Distance Matrix, we can just use it \n",
    "np.save(test3, FILENAME+'.npy')"
   ]
  },
  {
   "cell_type": "markdown",
   "metadata": {},
   "source": [
    "### But, how do we access it now that it's stuck in that file? And if we have a different data set, how do we make go get that data and save it as well?\n",
    "\n",
    "The last thing we have to do for this part is called **validation**. It's just a fancy word for checking that our data exists, and if it doesn't, make it. Also, we want to store all the cached data in the same place, so let's also make a folder for that too."
   ]
  },
  {
   "cell_type": "code",
   "execution_count": null,
   "metadata": {},
   "outputs": [],
   "source": [
    "def validateCache():\n",
    "    # Define where the cache should be\n",
    "    # Check for if the parent folder exists, if not make one\n",
    "    # Check if the distance matrix doesn't exist, if so make one\n",
    "    # If the matrix exists, just load it\n",
    "    # Return the matrix\n",
    "    return ..."
   ]
  },
  {
   "cell_type": "markdown",
   "metadata": {},
   "source": [
    "### And that's pretty much it.\n",
    "\n",
    "There's some other fancy stuff that we can do in a ```.py``` file, which we can get into later. Next up, we can start to turn our eyes on formulating the constraints..."
   ]
  }
 ],
 "metadata": {
  "kernelspec": {
   "display_name": "Python 3.9.13 ('ce311k')",
   "language": "python",
   "name": "python3"
  },
  "language_info": {
   "codemirror_mode": {
    "name": "ipython",
    "version": 3
   },
   "file_extension": ".py",
   "mimetype": "text/x-python",
   "name": "python",
   "nbconvert_exporter": "python",
   "pygments_lexer": "ipython3",
   "version": "3.9.13"
  },
  "orig_nbformat": 4,
  "vscode": {
   "interpreter": {
    "hash": "5f0a2c10ae07ef1a20c42b873bb358e5a4a9f8dc63953484f3676dbc84a47338"
   }
  }
 },
 "nbformat": 4,
 "nbformat_minor": 2
}
