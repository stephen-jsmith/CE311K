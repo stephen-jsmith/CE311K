{
 "cells": [
  {
   "cell_type": "markdown",
   "metadata": {},
   "source": [
    "### Making Main: How to ping an API, make a Distance Matrix, and call both at once\n",
    "Today, we are going to work through the data collection method for this project, step by step. In order, here are the steps we are looking to accomplish:\n",
    "-  Find the distance between two locations\n",
    "-  Repeat for every possible route in our list\n",
    "-  Save the collected data in matrix format\n",
    "-  Cache the data for later\n",
    "-  Make sure that we can load the cache\n",
    "\n",
    "Let's start with the import statements:"
   ]
  },
  {
   "cell_type": "code",
   "execution_count": 4,
   "metadata": {},
   "outputs": [],
   "source": [
    "# Import statements\n",
    "import json # Used to grab certain parts of the collected data, load key\n",
    "import requests # How we actually contact the API\n",
    "import pandas as pd # Excel but for python\n",
    "import numpy as np # Set up for later math\n",
    "import os # Navigating the file system\n",
    "\n",
    "# Open API Key - For telling Google we are indeed allowed to do this stuff\n",
    "with open(\"../Keys.json\", \"r\") as data:\n",
    "    Keys = json.load(data)\n",
    "key = Keys['googleMaps']"
   ]
  },
  {
   "cell_type": "markdown",
   "metadata": {},
   "source": [
    "Now that we have all the required packages, we can start to do the actual programming. First step, define a function that goes and gets the data from Google Maps' directions API. An API is sort of like a library. If you go and ask the librarian for a specific book, they'll give it to you. With an API, the librarian is our ```requests``` module. The librarian in a real library can help you best if you give it the dewey decimal associated with the book. The dewey decimal for us is a url, which we change based on what information we want. Let's define a function that will get the data for us:"
   ]
  },
  {
   "cell_type": "code",
   "execution_count": 14,
   "metadata": {},
   "outputs": [],
   "source": [
    "# Comments within the function represent what steps need to be taken for this function\n",
    "def RouteCaller(loc1:str, loc2:str, units:str='metric', routeType:str='Bicycle', key:str=None):\n",
    "    # print(f'Getting data for {loc1} to {loc2}')\n",
    "    # Verify Key exists\n",
    "    if key == None:\n",
    "        print('Error: You do not have an API key, and cannot access the Library')\n",
    "        return\n",
    "    # Ping the API\n",
    "    if loc1 != loc2:\n",
    "        returnValue = requests.get(\n",
    "            f\"https://maps.googleapis.com/maps/api/directions/json?destination={loc1}&origin={loc2}&units={units}&mode={routeType}&key={key}\").json()\n",
    "        # Return only the distance of the route\n",
    "        return float(returnValue['routes'][0]['legs'][0]['distance']['text'][:-3])\n",
    "    else:\n",
    "        return"
   ]
  },
  {
   "cell_type": "markdown",
   "metadata": {},
   "source": [
    "Now that we have a function that calls the API, let's test it and see what we get! The results for these should be 1.2 and 0. respectively"
   ]
  },
  {
   "cell_type": "code",
   "execution_count": 7,
   "metadata": {},
   "outputs": [
    {
     "name": "stdout",
     "output_type": "stream",
     "text": [
      "Getting data for 305+E+23rd+St+Austin+TX+78712 to 300+W+21st+St+Austin+TX+78712\n",
      "2.0\n",
      "Getting data for 305+E+23rd+St+Austin+TX+78712 to 305+E+23rd+St+Austin+TX+78712\n",
      "None\n"
     ]
    }
   ],
   "source": [
    "# Result in 1.2\n",
    "test1 = RouteCaller('305+E+23rd+St+Austin+TX+78712', '300+W+21st+St+Austin+TX+78712', key=key)\n",
    "print(test1)\n",
    "# Result in 0.\n",
    "test2 = RouteCaller('305+E+23rd+St+Austin+TX+78712', '305+E+23rd+St+Austin+TX+78712',key=key)\n",
    "print(test2)"
   ]
  },
  {
   "cell_type": "markdown",
   "metadata": {},
   "source": [
    "### This function is great, but what if I have a bunch of places to go to?\n",
    "Great question Stephen! The first part of answering this question is to ask another question- **How do we store where we want to go?** This is where we begin to use Pandas. Pandas is pretty much just google sheets, but in Python. Instead of a spreadsheet, we use this fancy thing called a ```DataFrame```.  ```DataFrames``` are pretty cool, and can read data from .csv files super easy. We can start by importing our data.\n",
    "\n",
    "To access data, we use a ```with open('name of file', 'mode') as ____:``` statement. What this does is only keep the file open as long as we need to. If we keep it open, then it can start to mess with the memory of our computer until killed. The ```'name of file'``` argument is just giving python directions on where to find the info. Next, we have ```mode```, which tells python what we are going to be doing to this file. The two main ```modes``` we can use are ```\"r\"```, read mode, or ```\"w\"```, write mode. Finally, we need to give the file a temporary name, which goes in the blank spot. This is just how we will refer to it when grabbing information. A common name to give it in this application is ```data```. Let's try this out: "
   ]
  },
  {
   "cell_type": "code",
   "execution_count": 8,
   "metadata": {},
   "outputs": [
    {
     "name": "stdout",
     "output_type": "stream",
     "text": [
      "  Name                                            Address\n",
      "0  RLP                      305+E+23rd+St+Austin+TX+78712\n",
      "1  HRC                      300+W+21st+St+Austin+TX+78712\n",
      "2  CNS  Will+C.Hogg+Bldg,+120+Inner+Campus+Drive,+Aust...\n",
      "3  BUR              2505+University+Ave,+Austin,+TX+78712\n",
      "4  CPE             200+E+Dean+Keeton+St,+Austin,+TX+78712\n"
     ]
    }
   ],
   "source": [
    "# For ease of use, lets give our file a generic name so we can access it later\n",
    "FILENAME = 'AddressesTest'\n",
    "\n",
    "with open(f\"../Data/{FILENAME}.csv\", \"r\") as data: # f\"\" is the same as \"\".format(), but cleaner\n",
    "    df = pd.read_csv(data)\n",
    "    # Make the addresses API friendly \n",
    "    # (API does not like the spaces or commas. I have already removed the commas but not the spaces from our test)\n",
    "    df = df.replace(' ', '+', regex=True)\n",
    "print(df)"
   ]
  },
  {
   "cell_type": "markdown",
   "metadata": {},
   "source": [
    "Now we have the data in an easy location to manipulate. We can begin writing a function that iterates over the data and spits out the distances we are looking for, since we know what format the data is in now."
   ]
  },
  {
   "cell_type": "code",
   "execution_count": 9,
   "metadata": {},
   "outputs": [],
   "source": [
    "def generateDistanceMatrix(df:pd.DataFrame, key:str=None):\n",
    "    # Set up local storage\n",
    "    distDict = {}\n",
    "    arrays = []\n",
    "    # Iterate through the DataFrame\n",
    "    for index1, row1 in df.iterrows():\n",
    "        distDict[index1] = []\n",
    "        for index2, row2 in df.iterrows():\n",
    "            if index1 == index2:\n",
    "                # If same location, we already know the distance, just append 0\n",
    "                distDict[index1].append(0)\n",
    "            else:\n",
    "                # Ping the API using the function we just made\n",
    "                RouteDistance = RouteCaller(df.iloc[index1]['Address'], df.iloc[index2]['Address'], key=key)\n",
    "                distDict[index1].append(RouteDistance)\n",
    "    # Process the data into a form we want\n",
    "    print(distDict)\n",
    "    for key in distDict.keys():\n",
    "        arrays.append(np.array(distDict[key]))\n",
    "    print(arrays)\n",
    "    distMatrix = np.vstack(arrays)\n",
    "    # Return\n",
    "    return distMatrix"
   ]
  },
  {
   "cell_type": "markdown",
   "metadata": {},
   "source": [
    "Again, let's test our function to make sure that we are getting what we want:"
   ]
  },
  {
   "cell_type": "code",
   "execution_count": 15,
   "metadata": {},
   "outputs": [
    {
     "name": "stdout",
     "output_type": "stream",
     "text": [
      "{0: [0, 2.0, 2.3, 1.1, 0.9], 1: [1.8, 0, 1.5, 1.0, 1.3], 2: [1.7, 1.0, 0, 0.8, 1.0], 3: [1.2, 0.9, 1.2, 0, 0.5], 4: [0.9, 1.3, 1.6, 0.4, 0]}\n",
      "[array([0. , 2. , 2.3, 1.1, 0.9]), array([1.8, 0. , 1.5, 1. , 1.3]), array([1.7, 1. , 0. , 0.8, 1. ]), array([1.2, 0.9, 1.2, 0. , 0.5]), array([0.9, 1.3, 1.6, 0.4, 0. ])]\n",
      "<class 'numpy.ndarray'>\n"
     ]
    }
   ],
   "source": [
    "test3 = generateDistanceMatrix(df, key)\n",
    "print(type(test3))"
   ]
  },
  {
   "cell_type": "markdown",
   "metadata": {},
   "source": [
    "### Awesome! We have a distance matrix all set up, so we're done right?\n",
    "\n",
    "Not quite! But we're really close. If we were to have a stupid big list of addresses, which we might, this API call stuff will just eat time every time we want to run the problem. So now, we need to do this thing called ```caching```. ```Caching``` is just the term for saving data. We're going to put all of our saved data into a ```.npy``` file, so that we can quickly pull it up later when we want to. The way you save to a ```.npy``` file is pretty simple:"
   ]
  },
  {
   "cell_type": "code",
   "execution_count": 16,
   "metadata": {},
   "outputs": [],
   "source": [
    "# Since we already have test3 setup as a Distance Matrix, we can just use it \n",
    "np.save(FILENAME,test3)"
   ]
  },
  {
   "cell_type": "markdown",
   "metadata": {},
   "source": [
    "### But, how do we access it now that it's stuck in that file? And if we have a different data set, how do we make go get that data and save it as well?\n",
    "\n",
    "The last thing we have to do for this part is called **validation**. It's just a fancy word for checking that our data exists, and if it doesn't, make it. Also, we want to store all the cached data in the same place, so let's also make a folder for that too."
   ]
  },
  {
   "cell_type": "code",
   "execution_count": 17,
   "metadata": {},
   "outputs": [
    {
     "ename": "NameError",
     "evalue": "name '__file__' is not defined",
     "output_type": "error",
     "traceback": [
      "\u001b[1;31m---------------------------------------------------------------------------\u001b[0m",
      "\u001b[1;31mNameError\u001b[0m                                 Traceback (most recent call last)",
      "Cell \u001b[1;32mIn [17], line 17\u001b[0m\n\u001b[0;32m     14\u001b[0m     \u001b[39m# Return the matrix\u001b[39;00m\n\u001b[0;32m     15\u001b[0m     \u001b[39mreturn\u001b[39;00m distMatrix\n\u001b[1;32m---> 17\u001b[0m validateCache(\u001b[39m'\u001b[39;49m\u001b[39mAddressesTest\u001b[39;49m\u001b[39m'\u001b[39;49m,df\u001b[39m=\u001b[39;49mdf, key\u001b[39m=\u001b[39;49mkey)\n",
      "Cell \u001b[1;32mIn [17], line 5\u001b[0m, in \u001b[0;36mvalidateCache\u001b[1;34m(filename, df, key)\u001b[0m\n\u001b[0;32m      3\u001b[0m cache_filename \u001b[39m=\u001b[39m os\u001b[39m.\u001b[39mpath\u001b[39m.\u001b[39msplitext(filename)[\u001b[39m0\u001b[39m] \u001b[39m+\u001b[39m \u001b[39m\"\u001b[39m\u001b[39m.npy\u001b[39m\u001b[39m\"\u001b[39m\n\u001b[0;32m      4\u001b[0m \u001b[39m# Check for if the parent folder exists, if not make one\u001b[39;00m\n\u001b[1;32m----> 5\u001b[0m \u001b[39mif\u001b[39;00m \u001b[39mnot\u001b[39;00m os\u001b[39m.\u001b[39mpath\u001b[39m.\u001b[39mexists(os\u001b[39m.\u001b[39mpath\u001b[39m.\u001b[39mjoin(os\u001b[39m.\u001b[39mpath\u001b[39m.\u001b[39mdirname(\u001b[39m__file__\u001b[39;49m),\u001b[39m\"\u001b[39m\u001b[39mCachedDistances\u001b[39m\u001b[39m\"\u001b[39m)):\n\u001b[0;32m      6\u001b[0m     os\u001b[39m.\u001b[39mmkdir(os\u001b[39m.\u001b[39mpath\u001b[39m.\u001b[39mjoin(os\u001b[39m.\u001b[39mpath\u001b[39m.\u001b[39mdirname(\u001b[39m__file__\u001b[39m),\u001b[39m\"\u001b[39m\u001b[39mCachedDistances\u001b[39m\u001b[39m\"\u001b[39m))\n\u001b[0;32m      7\u001b[0m \u001b[39m# Check if the distance matrix doesn't exist, if so make one\u001b[39;00m\n",
      "\u001b[1;31mNameError\u001b[0m: name '__file__' is not defined"
     ]
    }
   ],
   "source": [
    "def validateCache(filename:str,df:np.ndarray,key:str=None):\n",
    "    # Define where the cache should be\n",
    "    cache_filename = os.path.splitext(filename)[0] + \".npy\"\n",
    "    # Check for if the parent folder exists, if not make one\n",
    "    if not os.path.exists(os.path.join(os.path.dirname(__file__),\"CachedDistances\")):\n",
    "        os.mkdir(os.path.join(os.path.dirname(__file__),\"CachedDistances\"))\n",
    "    # Check if the distance matrix doesn't exist, if so make one\n",
    "    if not os.path.exists(os.path.join(os.path.dirname(__file__),\"CachedDistances\",cache_filename)):\n",
    "        distMatrix = generateDistanceMatrix(df, key)\n",
    "        np.save(os.path.join(os.path.dirname(__file__),\"CachedDistances\",cache_filename),distMatrix)\n",
    "    # If the matrix exists, just load it\n",
    "    else:\n",
    "        distMatrix = np.load(os.path.join(os.path.dirname(__file__), \"CachedDistances\", cache_filename))\n",
    "    # Return the matrix\n",
    "    return distMatrix\n",
    "\n",
    "validateCache('AddressesTest',df=df, key=key)\n",
    "\n",
    "\n",
    "\n",
    "'''\n",
    "adsfadsf\n",
    "afdsadsf\n",
    "'''"
   ]
  },
  {
   "cell_type": "markdown",
   "metadata": {},
   "source": [
    "### And that's pretty much it.\n",
    "\n",
    "There's some other fancy stuff that we can do in a ```.py``` file, which we can get into later. Next up, we can start to turn our eyes on formulating the constraints..."
   ]
  }
 ],
 "metadata": {
  "kernelspec": {
   "display_name": "Python 3.9.13 ('ce311k')",
   "language": "python",
   "name": "python3"
  },
  "language_info": {
   "codemirror_mode": {
    "name": "ipython",
    "version": 3
   },
   "file_extension": ".py",
   "mimetype": "text/x-python",
   "name": "python",
   "nbconvert_exporter": "python",
   "pygments_lexer": "ipython3",
   "version": "3.9.13"
  },
  "orig_nbformat": 4,
  "vscode": {
   "interpreter": {
    "hash": "5f0a2c10ae07ef1a20c42b873bb358e5a4a9f8dc63953484f3676dbc84a47338"
   }
  }
 },
 "nbformat": 4,
 "nbformat_minor": 2
}
